{
 "cells": [
  {
   "cell_type": "markdown",
   "id": "consistent-migration",
   "metadata": {},
   "source": [
    "#### Importing libraries:"
   ]
  },
  {
   "cell_type": "code",
   "execution_count": 1,
   "id": "another-biodiversity",
   "metadata": {},
   "outputs": [],
   "source": [
    "import pyttsx3\n",
    "import speech_recognition \n",
    "from playsound import playsound"
   ]
  },
  {
   "cell_type": "markdown",
   "id": "talented-dubai",
   "metadata": {},
   "source": [
    "#### Male to Female Voice:"
   ]
  },
  {
   "cell_type": "markdown",
   "id": "dated-curve",
   "metadata": {},
   "source": [
    "This is the 'Male Voice' which will be converted into a female voice: "
   ]
  },
  {
   "cell_type": "code",
   "execution_count": 2,
   "id": "exempt-filing",
   "metadata": {},
   "outputs": [],
   "source": [
    "playsound('male.wav')"
   ]
  },
  {
   "cell_type": "markdown",
   "id": "bored-segment",
   "metadata": {},
   "source": [
    "Now, here I am first converting the speech into text format. So, first an object is created of speech recognition class, and a new variable \"audio_file\" is created for storing that audio file. \n",
    "In order to integrate the recognize_google class, we first need to record the audio file, and this is done by storing it in a new variable named as \"audio_text\".\n",
    "Then using google speech to text converter, we are simply storing the audio file in the form of text, in \"male_voice_to_female_voice\"."
   ]
  },
  {
   "cell_type": "code",
   "execution_count": 3,
   "id": "regional-institute",
   "metadata": {},
   "outputs": [],
   "source": [
    "record = speech_recognition.Recognizer()\n",
    "audio_file = speech_recognition.AudioFile('male.wav')\n",
    "with audio_file as source:\n",
    "    audio_text = record.record(source)"
   ]
  },
  {
   "cell_type": "code",
   "execution_count": 4,
   "id": "spanish-desktop",
   "metadata": {},
   "outputs": [],
   "source": [
    "male_voice_to_female_voice = record.recognize_google(audio_text)"
   ]
  },
  {
   "cell_type": "markdown",
   "id": "composed-advancement",
   "metadata": {},
   "source": [
    "Now, when we have the text file ready, we can use another library of python, which can basically read the text file.\n",
    "Thing to note is that - in our system there are 2 default voices as shown below:"
   ]
  },
  {
   "cell_type": "code",
   "execution_count": 14,
   "id": "coastal-pledge",
   "metadata": {},
   "outputs": [
    {
     "data": {
      "text/plain": [
       "'summary the sides to break a teacher for the you keep adequate coverage the works of places to save money baby is taking longer to getting squared away then the bank was expected during the life events company in AVN heartattack se retirement income the British were inadequate news of the saving lives are heard it has done that you naked Bond what a discussion can insert when the title of this type of song is in question or waxing or gasing needed I prevent my be personalized number work lace leather and lace work on a flat surface and smooths out this post and a separate system uses a single sirf contained Unity op shop at store holds a good mechanical isliye bad bus figures with Gauhar in late summer curable chairs cabinets chest down house is a set'"
      ]
     },
     "execution_count": 14,
     "metadata": {},
     "output_type": "execute_result"
    }
   ],
   "source": [
    "# This is the audio in the text form:\n",
    "male_voice_to_female_voice"
   ]
  },
  {
   "cell_type": "code",
   "execution_count": 5,
   "id": "novel-police",
   "metadata": {},
   "outputs": [
    {
     "name": "stdout",
     "output_type": "stream",
     "text": [
      "<Voice id=HKEY_LOCAL_MACHINE\\SOFTWARE\\Microsoft\\Speech\\Voices\\Tokens\\TTS_MS_EN-US_DAVID_11.0\n",
      "          name=Microsoft David Desktop - English (United States)\n",
      "          languages=[]\n",
      "          gender=None\n",
      "          age=None> <Voice id=HKEY_LOCAL_MACHINE\\SOFTWARE\\Microsoft\\Speech\\Voices\\Tokens\\TTS_MS_EN-US_ZIRA_11.0\n",
      "          name=Microsoft Zira Desktop - English (United States)\n",
      "          languages=[]\n",
      "          gender=None\n",
      "          age=None>\n"
     ]
    }
   ],
   "source": [
    "engine = pyttsx3.init()\n",
    "sound = engine.getProperty('voices')\n",
    "print(*sound)"
   ]
  },
  {
   "cell_type": "markdown",
   "id": "passing-nurse",
   "metadata": {},
   "source": [
    "We can see that, there are two voices - \n",
    "\n",
    "1. Male voice = David \n",
    "2. Female voice = Zira\n",
    "\n",
    "Because, these two voices are stored in the form of a list, we can access them through python indexing.\n",
    "\n",
    "1. sound[0] --> Male voice\n",
    "2. sound [1] --> Female voice"
   ]
  },
  {
   "cell_type": "code",
   "execution_count": 6,
   "id": "sustained-parking",
   "metadata": {},
   "outputs": [],
   "source": [
    "engine.setProperty('voice', sound[1].id) #using female voice"
   ]
  },
  {
   "cell_type": "code",
   "execution_count": 7,
   "id": "saved-portrait",
   "metadata": {},
   "outputs": [],
   "source": [
    "engine.say(male_voice_to_female_voice)   #testing the same text which was earlier in the male voice, now in female voice."
   ]
  },
  {
   "cell_type": "code",
   "execution_count": 26,
   "id": "synthetic-soldier",
   "metadata": {},
   "outputs": [],
   "source": [
    "engine.save_to_file(male_voice_to_female_voice,'male-voice-converted-to-female.mp3') # Saving the female voice "
   ]
  },
  {
   "cell_type": "code",
   "execution_count": 9,
   "id": "cultural-approach",
   "metadata": {},
   "outputs": [],
   "source": [
    "engine.runAndWait()"
   ]
  },
  {
   "cell_type": "markdown",
   "id": "comprehensive-chile",
   "metadata": {},
   "source": [
    "#### Female to Male Voice:"
   ]
  },
  {
   "cell_type": "code",
   "execution_count": 12,
   "id": "surgical-closer",
   "metadata": {},
   "outputs": [],
   "source": [
    "playsound('female.wav')"
   ]
  },
  {
   "cell_type": "code",
   "execution_count": 10,
   "id": "three-usage",
   "metadata": {},
   "outputs": [],
   "source": [
    "record1 = speech_recognition.Recognizer()\n",
    "audio_file1 = speech_recognition.AudioFile('female.wav')\n",
    "with audio_file1 as source:\n",
    "    audio_text1 = record1.record(source)"
   ]
  },
  {
   "cell_type": "code",
   "execution_count": 13,
   "id": "linear-elite",
   "metadata": {},
   "outputs": [],
   "source": [
    "female_voice_to_male_voice = record1.recognize_google(audio_text1)"
   ]
  },
  {
   "cell_type": "code",
   "execution_count": 15,
   "id": "fluid-rendering",
   "metadata": {},
   "outputs": [
    {
     "data": {
      "text/plain": [
       "'perhaps this is what is PR agency is are their dignity schedule III was much is 50 feet then the choreographer missed arbitrated never go back into acquiescence with things as they work finds it in misery and isolation around us in this instance such personal purchase for a luxury leather cases of severe and advisement say he is a horse days Ranjan or he may have a point that contains between fuel prices straight line which symbolises uniqueness the circuit universality of small hole in wall with client has more subtle implications in passport expiry marketing program manufacturers taking initiative of the costs involved cricket overlapping twisted widely spaced to you always navigate like this'"
      ]
     },
     "execution_count": 15,
     "metadata": {},
     "output_type": "execute_result"
    }
   ],
   "source": [
    "# Audio in the text form:\n",
    "female_voice_to_male_voice"
   ]
  },
  {
   "cell_type": "markdown",
   "id": "distinct-hydrogen",
   "metadata": {},
   "source": [
    "All the above steps are same as in the case of converting male-to-female voice, instead, now we will be using sound2[0].\n",
    "sound2[0] = male voice. (Earlier we used sound[1] = female voice)"
   ]
  },
  {
   "cell_type": "code",
   "execution_count": 16,
   "id": "numerous-sandwich",
   "metadata": {},
   "outputs": [],
   "source": [
    "engine1 = pyttsx3.init()\n",
    "sound2 = engine.getProperty('voices')\n",
    "# Here we will get a list of two default voices -- male-voice and a female-voice\n",
    "engine1.setProperty('voice', sound2[0].id)"
   ]
  },
  {
   "cell_type": "code",
   "execution_count": 17,
   "id": "italian-state",
   "metadata": {},
   "outputs": [],
   "source": [
    "engine1.say(female_voice_to_male_voice)"
   ]
  },
  {
   "cell_type": "code",
   "execution_count": 24,
   "id": "stretch-canal",
   "metadata": {},
   "outputs": [],
   "source": [
    "engine1.save_to_file(female_voice_to_male_voice,'female-voice-converted-to-male.mp3')"
   ]
  },
  {
   "cell_type": "code",
   "execution_count": 19,
   "id": "working-leader",
   "metadata": {},
   "outputs": [],
   "source": [
    "engine1.runAndWait()"
   ]
  }
 ],
 "metadata": {
  "kernelspec": {
   "display_name": "Python 3",
   "language": "python",
   "name": "python3"
  },
  "language_info": {
   "codemirror_mode": {
    "name": "ipython",
    "version": 3
   },
   "file_extension": ".py",
   "mimetype": "text/x-python",
   "name": "python",
   "nbconvert_exporter": "python",
   "pygments_lexer": "ipython3",
   "version": "3.7.10"
  }
 },
 "nbformat": 4,
 "nbformat_minor": 5
}
